{
 "cells": [
  {
   "cell_type": "markdown",
   "metadata": {},
   "source": [
    "# 🌅 Morning Trading Bot Starter\n",
    "\n",
    "**Run this notebook at 8:30 AM for 9:15 AM paper trading**\n",
    "\n",
    "- 📊 **Mode**: Paper Trading with Live Data\n",
    "- 💰 **Capital**: ₹1,00,000 (Virtual)\n",
    "- 🎯 **Strategy**: 9:15 AM Options Trading\n",
    "- ⚡ **Target**: 8% profit, 30% stop loss"
   ]
  },
  {
   "cell_type": "markdown",
   "metadata": {},
   "source": [
    "## 📋 Step 1: Check System Status"
   ]
  },
  {
   "cell_type": "code",
   "execution_count": null,
   "metadata": {},
   "outputs": [],
   "source": [
    "# Check current time and system\n",
    "from datetime import datetime\n",
    "import os\n",
    "\n",
    "now = datetime.now()\n",
    "print(f\"🕐 Current Time: {now.strftime('%Y-%m-%d %H:%M:%S')}\")\n",
    "print(f\"📅 Day: {now.strftime('%A')}\")\n",
    "\n",
    "# Check if weekend\n",
    "if now.weekday() in [5, 6]:\n",
    "    print(\"⚠️  Weekend - Markets closed (but you can still test)\")\n",
    "else:\n",
    "    print(\"✅ Weekday - Markets will be open\")\n",
    "\n",
    "# Check current directory\n",
    "current_dir = os.getcwd()\n",
    "print(f\"📁 Current Directory: {current_dir}\")\n",
    "\n",
    "if 'options_trading_bot' in current_dir:\n",
    "    print(\"✅ Correct directory\")\n",
    "else:\n",
    "    print(\"❌ Wrong directory - please navigate to options_trading_bot folder\")"
   ]
  },
  {
   "cell_type": "markdown",
   "metadata": {},
   "source": [
    "## 🔧 Step 2: Verify Configuration"
   ]
  },
  {
   "cell_type": "code",
   "execution_count": null,
   "metadata": {},
   "outputs": [],
   "source": [
    "# Check config file\n",
    "import yaml\n",
    "\n",
    "try:\n",
    "    with open('config/config.yaml', 'r') as f:\n",
    "        config = yaml.safe_load(f)\n",
    "    \n",
    "    print(\"📊 Current Configuration:\")\n",
    "    print(f\"  • Mode: {config['trading']['mode']}\")\n",
    "    print(f\"  • Live Data: {config['trading']['use_live_data']}\")\n",
    "    print(f\"  • Capital: ₹{config['trading']['capital']:,}\")\n",
    "    print(f\"  • Target: {config['trading']['profit_target_percent']}%\")\n",
    "    print(f\"  • Stop Loss: {config['trading']['stop_loss_percent']}%\")\n",
    "    print(f\"  • Risk per trade: {config['risk']['max_risk_per_trade']}%\")\n",
    "    \n",
    "    if config['trading']['mode'] == 'paper' and config['trading']['use_live_data']:\n",
    "        print(\"✅ Perfect! Paper trading with live data enabled\")\n",
    "    else:\n",
    "        print(\"⚠️  Configuration may need adjustment\")\n",
    "        \n",
    "except Exception as e:\n",
    "    print(f\"❌ Config error: {e}\")"
   ]
  },
  {
   "cell_type": "markdown",
   "metadata": {},
   "source": [
    "## 🚀 Step 3: Start Trading Bot"
   ]
  },
  {
   "cell_type": "code",
   "execution_count": null,
   "metadata": {},
   "outputs": [],
   "source": [
    "# Start the trading bot\n",
    "import subprocess\n",
    "import time\n",
    "\n",
    "print(\"🤖 Starting Trading Bot...\")\n",
    "print(\"⚠️  This will start both the trading engine and web dashboard\")\n",
    "print(\"⏳ Please wait...\")\n",
    "\n",
    "# Execute the Python starter\n",
    "try:\n",
    "    result = subprocess.run(['python3', 'start_trading.py'], \n",
    "                          capture_output=False, \n",
    "                          text=True,\n",
    "                          timeout=10)  # 10 second timeout for startup\n",
    "except subprocess.TimeoutExpired:\n",
    "    print(\"✅ Bot started successfully (startup complete)\")\n",
    "    print(\"🔗 Web Dashboard: http://localhost:8080\")\n",
    "    print(\"📱 Bot is now running in background\")\n",
    "except Exception as e:\n",
    "    print(f\"❌ Error starting bot: {e}\")"
   ]
  },
  {
   "cell_type": "markdown",
   "metadata": {},
   "source": [
    "## 📊 Step 4: Monitor Status (Run this cell repeatedly)"
   ]
  },
  {
   "cell_type": "code",
   "execution_count": null,
   "metadata": {},
   "outputs": [],
   "source": [
    "# Quick status check\n",
    "import requests\n",
    "from datetime import datetime\n",
    "\n",
    "print(f\"🕐 Current Time: {datetime.now().strftime('%H:%M:%S')}\")\n",
    "\n",
    "try:\n",
    "    # Try to connect to web dashboard\n",
    "    response = requests.get('http://localhost:8080/api/status', timeout=2)\n",
    "    if response.status_code == 200:\n",
    "        print(\"✅ Web Dashboard: Running\")\n",
    "        print(\"🔗 Access at: http://localhost:8080\")\n",
    "    else:\n",
    "        print(\"⚠️  Web Dashboard: Not responding\")\n",
    "except:\n",
    "    print(\"❌ Web Dashboard: Not accessible\")\n",
    "    print(\"💡 Try running the Start Trading Bot cell again\")\n",
    "\n",
    "# Check if log file exists\n",
    "import os\n",
    "if os.path.exists('logs/trading_bot.log'):\n",
    "    print(\"✅ Trading Bot: Logs detected\")\n",
    "    \n",
    "    # Show last few log lines\n",
    "    try:\n",
    "        with open('logs/trading_bot.log', 'r') as f:\n",
    "            lines = f.readlines()\n",
    "            if lines:\n",
    "                print(\"📋 Recent log entries:\")\n",
    "                for line in lines[-3:]:\n",
    "                    print(f\"  {line.strip()}\")\n",
    "    except:\n",
    "        pass\nelse:\n",
    "    print(\"⚠️  Trading Bot: No logs yet\")"
   ]
  },
  {
   "cell_type": "markdown",
   "metadata": {},
   "source": [
    "## ⏰ Step 5: Timeline for Today"
   ]
  },
  {
   "cell_type": "code",
   "execution_count": null,
   "metadata": {},
   "outputs": [],
   "source": [
    "from datetime import datetime, time\n",
    "\n",
    "now = datetime.now()\n",
    "current_time = now.time()\n",
    "\n",
    "print(\"📅 Today's Trading Timeline:\")\n",
    "print(\"=\"*40)\n",
    "\n",
    "events = [\n",
    "    (time(8, 30), \"🟢 Recommended bot start time\"),\n",
    "    (time(9, 14), \"🔍 Pre-market scan begins\"),\n",
    "    (time(9, 15), \"⚡ Trade execution (if opportunity found)\"),\n",
    "    (time(9, 16), \"📊 Position monitoring starts\"),\n",
    "    (time(15, 15), \"⏰ Market closing - force exit\"),\n",
    "    (time(15, 30), \"📈 Daily summary generated\")\n",
    "]\n",
    "\n",
    "for event_time, description in events:\n",
    "    if current_time < event_time:\n",
    "        status = \"⏳ Upcoming\"\n",
    "    elif current_time == event_time:\n",
    "        status = \"🔴 NOW\"\n",
    "    else:\n",
    "        status = \"✅ Completed\"\n",
    "    \n",
    "    print(f\"{event_time.strftime('%H:%M')} - {description} [{status}]\")\n",
    "\n",
    "print(\"\\n💡 Tips:\")\n",
    "if current_time < time(9, 0):\n",
    "    print(\"  • Bot is waiting for market hours\")\n",
    "    print(\"  • Use web dashboard to monitor: http://localhost:8080\")\n",
    "elif current_time < time(9, 15):\n",
    "    print(\"  • Pre-market scanning in progress\")\n",
    "    print(\"  • Watch for top gainer detection\")\n",
    "elif current_time < time(15, 30):\n",
    "    print(\"  • Trading session active\")\n",
    "    print(\"  • Monitor position via dashboard\")\n",
    "else:\n",
    "    print(\"  • Market closed for today\")\n",
    "    print(\"  • Check daily summary\")"
   ]
  },
  {
   "cell_type": "markdown",
   "metadata": {},
   "source": [
    "## 🛑 Emergency Stop (if needed)"
   ]
  },
  {
   "cell_type": "code",
   "execution_count": null,
   "metadata": {},
   "outputs": [],
   "source": [
    "# Emergency stop - only run if you need to stop the bot\n",
    "import subprocess\n",
    "\n",
    "print(\"🛑 EMERGENCY STOP - Stopping all trading processes\")\n",
    "\n",
    "try:\n",
    "    # Kill trading bot\n",
    "    subprocess.run(['pkill', '-f', 'main.py'], capture_output=True)\n",
    "    # Kill web dashboard\n",
    "    subprocess.run(['pkill', '-f', 'app.py'], capture_output=True)\n",
    "    \n",
    "    print(\"✅ All processes stopped\")\n",
    "    print(\"💡 To restart, run the 'Start Trading Bot' cell again\")\n",
    "    \n",
    "except Exception as e:\n",
    "    print(f\"⚠️  Stop command error: {e}\")\n",
    "    print(\"💡 Processes may have already been stopped\")"
   ]
  }
 ],
 "metadata": {
  "kernelspec": {
   "display_name": "Python 3",
   "language": "python",
   "name": "python3"
  },
  "language_info": {
   "codemirror_mode": {
    "name": "ipython",
    "version": 3
   },
   "file_extension": ".py",
   "mimetype": "text/x-python",
   "name": "python",
   "nbconvert_exporter": "python",
   "pygments_lexer": "ipython3",
   "version": "3.9.6"
  }
 },
 "nbformat": 4,
 "nbformat_minor": 4
}